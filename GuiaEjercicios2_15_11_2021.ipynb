{
  "nbformat": 4,
  "nbformat_minor": 0,
  "metadata": {
    "colab": {
      "name": "GuiaEjercicios2_15.11.2021.ipynb",
      "provenance": [],
      "collapsed_sections": [],
      "include_colab_link": true
    },
    "kernelspec": {
      "name": "python3",
      "display_name": "Python 3"
    },
    "language_info": {
      "name": "python"
    }
  },
  "cells": [
    {
      "cell_type": "markdown",
      "metadata": {
        "id": "view-in-github",
        "colab_type": "text"
      },
      "source": [
        "<a href=\"https://colab.research.google.com/github/ClaudiaGonzalezScanu/actividad_Variables/blob/main/GuiaEjercicios2_15_11_2021.ipynb\" target=\"_parent\"><img src=\"https://colab.research.google.com/assets/colab-badge.svg\" alt=\"Open In Colab\"/></a>"
      ]
    },
    {
      "cell_type": "markdown",
      "metadata": {
        "id": "INO-wDY6A5R0"
      },
      "source": [
        ""
      ]
    },
    {
      "cell_type": "code",
      "metadata": {
        "colab": {
          "base_uri": "https://localhost:8080/"
        },
        "id": "snIS6qnYuH1W",
        "outputId": "7fbf7549-a109-4335-94a3-a4fef44f9f2b"
      },
      "source": [
        "cad=\"Hola Mundo!\"\n",
        "len(cad)\n",
        "i=-1\n",
        "while i>=-len(cad):\n",
        "  print(cad[i])\n",
        "  i -= 1\n"
      ],
      "execution_count": null,
      "outputs": [
        {
          "output_type": "stream",
          "name": "stdout",
          "text": [
            "!\n",
            "o\n",
            "d\n",
            "n\n",
            "u\n",
            "M\n",
            " \n",
            "a\n",
            "l\n",
            "o\n",
            "H\n"
          ]
        }
      ]
    },
    {
      "cell_type": "code",
      "metadata": {
        "colab": {
          "base_uri": "https://localhost:8080/"
        },
        "id": "P-p6XO5F02-g",
        "outputId": "fa9437d7-f54e-4d77-8c43-23e83ac8d73e"
      },
      "source": [
        "cad=input(\"Ingrese cadena\")\n",
        "i=len(cad)-1\n",
        "while i>=0:\n",
        "  print(cad[i])\n",
        "  i -= 1\n"
      ],
      "execution_count": null,
      "outputs": [
        {
          "output_type": "stream",
          "name": "stdout",
          "text": [
            "Ingrese cadenaPython\n",
            "n\n",
            "o\n",
            "h\n",
            "t\n",
            "y\n",
            "P\n"
          ]
        }
      ]
    },
    {
      "cell_type": "code",
      "metadata": {
        "colab": {
          "base_uri": "https://localhost:8080/"
        },
        "id": "DtQx2lf01JU4",
        "outputId": "80c054d4-8544-45d7-9887-78ec3ae6c2f8"
      },
      "source": [
        "numeros=[3,1,4,2,7,10,1,6,5,7]\n",
        "for n in numeros:\n",
        "  print(n)"
      ],
      "execution_count": null,
      "outputs": [
        {
          "output_type": "stream",
          "name": "stdout",
          "text": [
            "3\n",
            "1\n",
            "4\n",
            "2\n",
            "7\n",
            "10\n",
            "1\n",
            "6\n",
            "5\n",
            "7\n"
          ]
        }
      ]
    },
    {
      "cell_type": "code",
      "metadata": {
        "colab": {
          "base_uri": "https://localhost:8080/"
        },
        "id": "V35huGQG2sJs",
        "outputId": "05225398-5fde-48a0-a6ba-8c20b9b90e49"
      },
      "source": [
        "numero=int(input(\"Ingrese numero: \"))\n",
        "i=1\n",
        "words=[]\n",
        "while i<=numero:\n",
        "  palabra=input(\"Ingrese palabra: \")\n",
        "  words.append(palabra)\n",
        "  i += 1\n",
        "print(words)"
      ],
      "execution_count": null,
      "outputs": [
        {
          "output_type": "stream",
          "name": "stdout",
          "text": [
            "Ingrese numero: 3\n",
            "Ingrese palabra: hola\n",
            "Ingrese palabra: que\n",
            "Ingrese palabra: tal\n",
            "['hola', 'que', 'tal']\n"
          ]
        }
      ]
    },
    {
      "cell_type": "code",
      "metadata": {
        "colab": {
          "base_uri": "https://localhost:8080/"
        },
        "id": "IR-EP-uR3ykN",
        "outputId": "84d58ef2-3fd2-4c3e-ff19-3f63a2b10d69"
      },
      "source": [
        "alumnos={}\n",
        "while True:\n",
        "  nombre=input(\"Ingrese Nombre: \")\n",
        "  if nombre != \"*\":\n",
        "    edad=int(input(\"Ingrese edad: \"))\n",
        "    alumnos[nombre]=edad\n",
        "  elif nombre == \"*\":\n",
        "    break\n",
        "alumnos"
      ],
      "execution_count": null,
      "outputs": [
        {
          "name": "stdout",
          "output_type": "stream",
          "text": [
            "Ingrese Nombre: Juan Perez\n",
            "Ingrese edad: 24\n",
            "Ingrese Nombre: Jose Gomez\n",
            "Ingrese edad: 56\n",
            "Ingrese Nombre: Marta Sanchez\n",
            "Ingrese edad: 45\n",
            "Ingrese Nombre: *\n"
          ]
        },
        {
          "output_type": "execute_result",
          "data": {
            "text/plain": [
              "{'Jose Gomez': 56, 'Juan Perez': 24, 'Marta Sanchez': 45}"
            ]
          },
          "metadata": {},
          "execution_count": 14
        }
      ]
    },
    {
      "cell_type": "code",
      "metadata": {
        "colab": {
          "base_uri": "https://localhost:8080/"
        },
        "id": "lYvdgn4W7j5R",
        "outputId": "d06c85c5-25a8-4eae-8477-7ee46c289e64"
      },
      "source": [
        "for key,value in alumnos.items():\n",
        "  print(f\"{key:{20}}{value}\")"
      ],
      "execution_count": null,
      "outputs": [
        {
          "output_type": "stream",
          "name": "stdout",
          "text": [
            "Juan Perez          24\n",
            "Jose Gomez          56\n",
            "Marta Sanchez       45\n"
          ]
        }
      ]
    },
    {
      "cell_type": "code",
      "metadata": {
        "colab": {
          "base_uri": "https://localhost:8080/"
        },
        "id": "-XZC5woI8Pth",
        "outputId": "4e8a5bff-8ff2-43f0-c3f9-857db5e648c4"
      },
      "source": [
        "alumnos=[]\n",
        "while True:\n",
        "  lista=[]\n",
        "  nombre=input(\"Ingrese Nombre: \")\n",
        "  if nombre != \"*\":\n",
        "    lista.append(nombre)\n",
        "    edad=int(input(\"Ingrese edad: \"))\n",
        "    lista.append(edad)\n",
        "    alumnos.append(lista)\n",
        "  elif nombre == \"*\":\n",
        "    break"
      ],
      "execution_count": null,
      "outputs": [
        {
          "name": "stdout",
          "output_type": "stream",
          "text": [
            "Ingrese Nombre: Juan\n",
            "Ingrese edad: 25\n",
            "Ingrese Nombre: Marcela\n",
            "Ingrese edad: 41\n",
            "Ingrese Nombre: Pablo\n",
            "Ingrese edad: 30\n",
            "Ingrese Nombre: Paola\n",
            "Ingrese edad: 45\n",
            "Ingrese Nombre: *\n"
          ]
        }
      ]
    },
    {
      "cell_type": "code",
      "metadata": {
        "colab": {
          "base_uri": "https://localhost:8080/"
        },
        "id": "CzoxGZGq9xh0",
        "outputId": "a6079759-d519-4946-bb07-de2a72810c49"
      },
      "source": [
        "lista1"
      ],
      "execution_count": null,
      "outputs": [
        {
          "output_type": "execute_result",
          "data": {
            "text/plain": [
              "[['Juan', 25], ['Marcela', 41], ['Pablo', 30], ['Paola', 45]]"
            ]
          },
          "metadata": {},
          "execution_count": 24
        }
      ]
    },
    {
      "cell_type": "code",
      "metadata": {
        "colab": {
          "base_uri": "https://localhost:8080/"
        },
        "id": "EF3zPnSx98I1",
        "outputId": "5403c02b-d933-4c1d-e98c-0b09b36ad074"
      },
      "source": [
        "lista1[1]\n"
      ],
      "execution_count": null,
      "outputs": [
        {
          "output_type": "execute_result",
          "data": {
            "text/plain": [
              "['Marcela', 41]"
            ]
          },
          "metadata": {},
          "execution_count": 25
        }
      ]
    },
    {
      "cell_type": "code",
      "metadata": {
        "colab": {
          "base_uri": "https://localhost:8080/"
        },
        "id": "sbC7VjWv-BXK",
        "outputId": "e31396ce-d58a-496a-fe33-fb9c9c0bd6ff"
      },
      "source": [
        "lista1[1][1]"
      ],
      "execution_count": null,
      "outputs": [
        {
          "output_type": "execute_result",
          "data": {
            "text/plain": [
              "41"
            ]
          },
          "metadata": {},
          "execution_count": 27
        }
      ]
    },
    {
      "cell_type": "code",
      "metadata": {
        "colab": {
          "base_uri": "https://localhost:8080/"
        },
        "id": "0wmRzUxe_HqD",
        "outputId": "468a0891-b212-4a96-944a-d8469b0117c2"
      },
      "source": [
        "alumnos={}\n",
        "while True:\n",
        "  nombre=input(\"Ingrese Nombre: \")\n",
        "  if nombre != \"*\":\n",
        "    edad=int(input(\"Ingrese edad: \"))\n",
        "    alumnos[nombre]=edad\n",
        "  elif nombre == \"*\":\n",
        "    break\n",
        "\n",
        "for key,value in alumnos.items():\n",
        "  if value>=40:\n",
        "    print(f\"{key:{20}}{value}\")\n",
        "    "
      ],
      "execution_count": null,
      "outputs": [
        {
          "output_type": "stream",
          "name": "stdout",
          "text": [
            "Ingrese Nombre: JUan Gomez\n",
            "Ingrese edad: 23\n",
            "Ingrese Nombre: Maria Gonzalez\n",
            "Ingrese edad: 45\n",
            "Ingrese Nombre: Pablo Rojas\n",
            "Ingrese edad: 56\n",
            "Ingrese Nombre: Paola Toledo\n",
            "Ingrese edad: 21\n",
            "Ingrese Nombre: *\n",
            "Maria Gonzalez      45\n",
            "Pablo Rojas         56\n"
          ]
        }
      ]
    },
    {
      "cell_type": "code",
      "metadata": {
        "colab": {
          "base_uri": "https://localhost:8080/"
        },
        "id": "SXprjb5b_u4n",
        "outputId": "a49871e1-3f6d-4dbf-f67a-fd82e3ce7108"
      },
      "source": [
        "edad_mayor=0\n",
        "for key,value in alumnos.items():\n",
        "  if value>edad_mayor:\n",
        "    nom_mayor=key\n",
        "    edad_mayor=value\n",
        "print(f\"{nom_mayor:{20}}{edad_mayor}\")"
      ],
      "execution_count": null,
      "outputs": [
        {
          "output_type": "stream",
          "name": "stdout",
          "text": [
            "Pablo Rojas         56\n"
          ]
        }
      ]
    }
  ]
}